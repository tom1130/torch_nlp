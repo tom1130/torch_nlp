{
 "cells": [
  {
   "cell_type": "code",
   "execution_count": 26,
   "metadata": {},
   "outputs": [],
   "source": [
    "# import basic libarary\n",
    "import pandas\n",
    "import pickle\n",
    "import math\n",
    "\n",
    "# import torch module\n",
    "from transformers import BertTokenizerFast\n",
    "import torch\n",
    "import torch.nn as nn\n",
    "import torch.nn.functional as F\n",
    "from torch.nn import TransformerEncoder, TransformerEncoderLayer"
   ]
  },
  {
   "cell_type": "code",
   "execution_count": 31,
   "metadata": {},
   "outputs": [],
   "source": [
    "class PositionalEncoding(nn.Module):\n",
    "    def __init__(self, dimension, vocab_size, dropout):\n",
    "        super().__init__()\n",
    "        self.dropout = nn.Dropout(dropout)\n",
    "\n",
    "        pe = torch.zeros(vocab_size, dimension)\n",
    "        position = torch.arange(0, vocab_size, dtype=torch.float).unsqueeze(1)\n",
    "        div_term = torch.exp(\n",
    "            torch.arange(0, dimension, 2).float()*(-math.log(10000.0)/dimension)\n",
    "        )\n",
    "        pe[:, 0::2] = torch.sin(position * div_term)\n",
    "        pe[:, 1::2] = torch.cos(position * div_term)\n",
    "        pe = pe.unsqueeze(0)\n",
    "\n",
    "    def forward(self, x):\n",
    "        x = x + self.pe[:, :x.size(1), :]\n",
    "        return self.dropout(x)\n",
    "\n",
    "class TransoformerClassifierNetwork(nn.Module):\n",
    "    def __init__(self, embeddings, nhead, dim_feedforward, num_layers, dropout, activation, vocab_size, dimension):\n",
    "        super().__init__()\n",
    "\n",
    "        self.emb = nn.Embedding(vocab_size, dimension)\n",
    "\n",
    "        self.pos_encoder = PositionalEncoding(\n",
    "            dimension = dimension,\n",
    "            dropout = dropout,\n",
    "            vocab_size = vocab_size\n",
    "        )\n",
    "\n",
    "        encoder_layer = TransformerEncoderLayer(\n",
    "            d_model = dimension,\n",
    "            nhead = nhead,\n",
    "            dim_feedforward = dim_feedforward,\n",
    "            dropout = dropout\n",
    "        )\n",
    "\n",
    "        self.transformer_encoder = TransformerEncoder(\n",
    "            encoder_layer,\n",
    "            num_layers = num_layers\n",
    "        )\n",
    "\n",
    "        self.linear = nn.Linear(dimension, 3)\n",
    "        self.dimension = dimension\n",
    "\n",
    "    def forward(self, input):\n",
    "        x = self.emb(input)*math.sqrt(self.dimension)\n",
    "        x = self.pos_encoder(x)\n",
    "        x = self.transformer_encoder(x)\n",
    "        x = x.mean(dim=1)\n",
    "        output = self.linear(x)\n",
    "        return output\n"
   ]
  },
  {
   "cell_type": "code",
   "execution_count": null,
   "metadata": {},
   "outputs": [],
   "source": []
  }
 ],
 "metadata": {
  "kernelspec": {
   "display_name": "Python 3.7.13 ('base')",
   "language": "python",
   "name": "python3"
  },
  "language_info": {
   "codemirror_mode": {
    "name": "ipython",
    "version": 3
   },
   "file_extension": ".py",
   "mimetype": "text/x-python",
   "name": "python",
   "nbconvert_exporter": "python",
   "pygments_lexer": "ipython3",
   "version": "3.7.13"
  },
  "orig_nbformat": 4,
  "vscode": {
   "interpreter": {
    "hash": "d4d1e4263499bec80672ea0156c357c1ee493ec2b1c70f0acce89fc37c4a6abe"
   }
  }
 },
 "nbformat": 4,
 "nbformat_minor": 2
}
