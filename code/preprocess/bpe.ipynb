{
 "cells": [
  {
   "cell_type": "code",
   "execution_count": null,
   "metadata": {},
   "outputs": [],
   "source": [
    "# !pip install transformers"
   ]
  },
  {
   "cell_type": "code",
   "execution_count": 3,
   "metadata": {},
   "outputs": [
    {
     "name": "stderr",
     "output_type": "stream",
     "text": [
      "/opt/conda/lib/python3.7/site-packages/tqdm/auto.py:22: TqdmWarning: IProgress not found. Please update jupyter and ipywidgets. See https://ipywidgets.readthedocs.io/en/stable/user_install.html\n",
      "  from .autonotebook import tqdm as notebook_tqdm\n"
     ]
    }
   ],
   "source": [
    "import pandas as pd\n",
    "import numpy as np\n",
    "import pickle\n",
    "\n",
    "from transformers import BertTokenizerFast\n",
    "from torchtext import transforms as T\n",
    "from konlpy.tag import Mecab\n",
    "\n",
    "computer = 'docker'"
   ]
  },
  {
   "cell_type": "code",
   "execution_count": 5,
   "metadata": {},
   "outputs": [],
   "source": [
    "if computer=='docker':\n",
    "    train_data_path = '/root/share/data/train.csv'\n",
    "    test_data_path = '/root/share/data/test.csv'\n",
    "elif computer=='colab':\n",
    "    train_data_path = ''\n",
    "    test_data_path = ''"
   ]
  },
  {
   "cell_type": "code",
   "execution_count": 22,
   "metadata": {},
   "outputs": [],
   "source": [
    "# data 불러오기\n",
    "train = pd.read_csv(train_data_path)\n",
    "# null 값 제거\n",
    "train = train[train['data'].notnull()]\n",
    "# //n 제거\n",
    "train['data'] = train['data'].apply(lambda x: x.replace('\\\\n',''))\n",
    "\n",
    "# mecab으로 tokenizing 후 token 사이에 띄어쓰기를 추가하여 문장 재구성\n",
    "def tokenize(sentence, tokenizer):\n",
    "    return tokenizer.morphs(sentence)\n",
    "mecab = Mecab()\n",
    "train['data'] = train['data'].apply(tokenize, tokenizer=mecab)\n",
    "train['data'] = train['data'].apply(lambda x: ' '.join(x))\n",
    "\n",
    "# test data도 동일하게 진행\n",
    "test = pd.read_csv(test_data_path)\n",
    "test['data'] = test['data'].apply(lambda x: x.replace('\\\\n',''))\n",
    "test['data'] = test['data'].apply(tokenize, tokenizer=mecab)\n",
    "test['data'] = test['data'].apply(lambda x: ' '.join(x))"
   ]
  },
  {
   "cell_type": "code",
   "execution_count": 23,
   "metadata": {},
   "outputs": [],
   "source": [
    "# 학습된 bert-kor를 통해 word to token 변환\n",
    "## train\n",
    "tokenizer_bert = BertTokenizerFast.from_pretrained('kykim/bert-kor-base')\n",
    "train_data = tokenizer_bert(train['data'].tolist(), truncation=True, padding='max_length', max_length=300)\n",
    "train_data = T.ToTensor()(train_data.data['input_ids'])\n",
    "\n",
    "## test\n",
    "test_data = tokenizer_bert(test['data'].tolist(), truncation=True, padding='max_length', max_length=300)\n",
    "test_data = T.ToTensor()(test_data.data['input_ids'])"
   ]
  },
  {
   "cell_type": "code",
   "execution_count": 25,
   "metadata": {},
   "outputs": [],
   "source": [
    "# 데이터 저장\n",
    "with open('/root/share/data/train_data.pkl','wb') as f:\n",
    "    pickle.dump(train_data, f)\n",
    "\n",
    "with open('/root/share/data/test_data.pkl','wb') as f:\n",
    "    pickle.dump(test_data, f)"
   ]
  }
 ],
 "metadata": {
  "kernelspec": {
   "display_name": "Python 3.7.13 ('base')",
   "language": "python",
   "name": "python3"
  },
  "language_info": {
   "codemirror_mode": {
    "name": "ipython",
    "version": 3
   },
   "file_extension": ".py",
   "mimetype": "text/x-python",
   "name": "python",
   "nbconvert_exporter": "python",
   "pygments_lexer": "ipython3",
   "version": "3.7.13"
  },
  "orig_nbformat": 4,
  "vscode": {
   "interpreter": {
    "hash": "d4d1e4263499bec80672ea0156c357c1ee493ec2b1c70f0acce89fc37c4a6abe"
   }
  }
 },
 "nbformat": 4,
 "nbformat_minor": 2
}
